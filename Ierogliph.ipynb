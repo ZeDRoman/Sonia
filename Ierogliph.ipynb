{
 "cells": [
  {
   "cell_type": "code",
   "execution_count": null,
   "metadata": {},
   "outputs": [],
   "source": [
    "import numpy as np\n",
    "import matplotlib.pyplot as plt\n",
    "import scipy.misc"
   ]
  },
  {
   "cell_type": "code",
   "execution_count": null,
   "metadata": {},
   "outputs": [],
   "source": [
    "def create_shuffling(data1, data2):\n",
    "    data = np.load(data1)\n",
    "    data = np.concatenate((data, np.load(data2)), axis=0)\n",
    "    np.random.shuffle(data)\n",
    "    np.save(data1, data[:data.shape[0]//2, :])\n",
    "    np.save(data2, data[data.shape[0]//2 :, :])"
   ]
  },
  {
   "cell_type": "code",
   "execution_count": null,
   "metadata": {},
   "outputs": [],
   "source": [
    "t1 = \"/home/zedroman/Documents/Sonia/Ierogliph/train-1.npy/train-1.npy\"\n",
    "t2 = \"/home/zedroman/Documents/Sonia/Ierogliph/train-2.npy/train-2.npy\"\n",
    "t3 = \"/home/zedroman/Documents/Sonia/Ierogliph/train-3.npy/train-3.npy\"\n",
    "t4 = \"/home/zedroman/Documents/Sonia/Ierogliph/train-4.npy/train-4.npy\""
   ]
  },
  {
   "cell_type": "code",
   "execution_count": null,
   "metadata": {},
   "outputs": [],
   "source": [
    "i_height = 56\n",
    "i_width = 56\n",
    "import json\n",
    "with open('/home/zedroman/Documents/Sonia/Ierogliph/itoc.txt', 'r') as outfile:  \n",
    "    itoc = json.load(outfile)\n",
    "with open('/home/zedroman/Documents/Sonia/Ierogliph/ctoi.txt', 'r') as outfile:  \n",
    "    ctoi = json.load(outfile)\n",
    "    \n",
    "def itocf(x):\n",
    "    for i in range(len(x)):\n",
    "        x[i] = itoc[str(x[i])]\n",
    "        \n",
    "def ctoif(x):\n",
    "    for i in range(len(x)):\n",
    "        x[i] = ctoi[x[i]]"
   ]
  },
  {
   "cell_type": "code",
   "execution_count": null,
   "metadata": {},
   "outputs": [],
   "source": [
    "import gc\n",
    "gc.collect()\n",
    "gc.collect()"
   ]
  },
  {
   "cell_type": "code",
   "execution_count": null,
   "metadata": {},
   "outputs": [],
   "source": [
    "def create_batches(train_csv):\n",
    "    for i in range(train_csv.shape[0]): \n",
    "        train_csv[i, 0] = scipy.misc.imresize(train_csv[i, 0], (i_height, i_width))\n",
    "    itocf(train_csv[:,1])\n",
    "    train_csv[:,0] = 255 - train_csv[:,0]\n",
    "    np.random.shuffle(train_csv)\n",
    "    dest_t = \"/home/zedroman/Documents/Sonia/Ierogliph/train.npy\"\n",
    "    dest_t2 = \"/home/zedroman/Documents/Sonia/Ierogliph/train2.npy\"\n",
    "    dest_c = \"/home/zedroman/Documents/Sonia/Ierogliph/testing.npy\"\n",
    "    np.save(dest_t,  train_csv[train_csv.shape[0] * 5 // 10:train_csv.shape[0] * 9 // 10, :])\n",
    "    np.save(dest_t2,  train_csv[:train_csv.shape[0] * 5 // 10, :])\n",
    "    np.save(dest_c, train_csv[train_csv.shape[0] * 9 // 10:, :])\n",
    "    train_csv = None"
   ]
  },
  {
   "cell_type": "code",
   "execution_count": null,
   "metadata": {},
   "outputs": [],
   "source": [
    "# import scipy.misc\n",
    "\n",
    "# data = \"/home/zedroman/Documents/Sonia/Ierogliph/test.npy/test.npy\"\n",
    "# test_csv = np.load(data)\n",
    "# test = np.empty((test_csv.shape[0], 1,  i_height, i_width))\n",
    "# for i in range(test.shape[0]): \n",
    "#     test[i,0, :, :] = scipy.misc.imresize(test_csv[i], (i_height, i_width))\n",
    "# test_csv = None\n",
    "# test = 255 - test\n",
    "# data = np.array_split(test, 10)\n",
    "# for i in range(len(data)):\n",
    "#     dest_c = \"/home/zedroman/Documents/Sonia/Ierogliph/test.npy/test{}\".format(i)\n",
    "#     np.save(dest_c, data[i])\n",
    "    "
   ]
  },
  {
   "cell_type": "code",
   "execution_count": null,
   "metadata": {},
   "outputs": [],
   "source": [
    "data = np.concatenate((np.load(t1), np.load(t2), np.load(t3), np.load(t4)), axis=0)\n",
    "create_batches(data)"
   ]
  },
  {
   "cell_type": "code",
   "execution_count": null,
   "metadata": {},
   "outputs": [],
   "source": [
    "# counter = 0\n",
    "# itoc = {}\n",
    "# ctoi = {}\n",
    "# for i in train_1_csv:\n",
    "#     if (itoc.get(i[1]) == None):\n",
    "#         itoc[i[1]] = counter\n",
    "#         ctoi[counter] = i[1]\n",
    "#         counter+=1\n",
    "\n",
    "# for i in train_2_csv:\n",
    "#     if (itoc.get(i[1]) == None):\n",
    "#         itoc[i[1]] = counter\n",
    "#         ctoi[counter] = i[1]\n",
    "#         counter+=1\n",
    "        \n",
    "        \n",
    "# for i in train_3_csv:\n",
    "#     if (itoc.get(i[1]) == None):\n",
    "#         itoc[i[1]] = counter\n",
    "#         ctoi[counter] = i[1]\n",
    "#         counter+=1\n",
    "        \n",
    "        \n",
    "# for i in train_4_csv:\n",
    "#     if (itoc.get(i[1]) == None):\n",
    "#         itoc[i[1]] = counter\n",
    "#         ctoi[counter] = i[1]\n",
    "#         counter+=1\n",
    "\n",
    "# import json\n",
    "# with open('/home/zedroman/Documents/Sonia/Ierogliph/itoc.txt', 'w') as outfile:  \n",
    "#     json.dump(itoc, outfile)\n",
    "# with open('/home/zedroman/Documents/Sonia/Ierogliph/ctoi.txt', 'w') as outfile:  \n",
    "#     json.dump(ctoi, outfile)"
   ]
  }
 ],
 "metadata": {
  "kernelspec": {
   "display_name": "Python 3",
   "language": "python",
   "name": "python3"
  },
  "language_info": {
   "codemirror_mode": {
    "name": "ipython",
    "version": 3
   },
   "file_extension": ".py",
   "mimetype": "text/x-python",
   "name": "python",
   "nbconvert_exporter": "python",
   "pygments_lexer": "ipython3",
   "version": "3.6.6"
  }
 },
 "nbformat": 4,
 "nbformat_minor": 2
}
