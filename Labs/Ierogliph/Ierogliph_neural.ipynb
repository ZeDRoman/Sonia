{
 "cells": [
  {
   "cell_type": "code",
   "execution_count": 1,
   "metadata": {},
   "outputs": [],
   "source": [
    "import pandas\n",
    "import os\n",
    "import numpy as np\n",
    "import matplotlib.pyplot as plt\n",
    "import torch\n",
    "import torch\n",
    "import torch.nn as nn\n",
    "import torch.nn.functional as F\n",
    "import torch.optim as optim\n",
    "from torch.autograd import Variable\n",
    "import progressbar\n",
    "import torch\n",
    "import torchvision\n",
    "import torchvision.transforms as transforms"
   ]
  },
  {
   "cell_type": "code",
   "execution_count": 2,
   "metadata": {},
   "outputs": [],
   "source": [
    "\n",
    "data = (np.load(\"/home/zedroman/Documents/Sonia/Ierogliph/train.npy\"))\n",
    "\n",
    "tensor_data = torch.empty((data.shape[0],1,data[0, 0].shape[0], data[0, 0].shape[1]))\n",
    "tensor_ans = torch.empty((data.shape[0])).long()\n",
    "\n",
    "for i in range(data.shape[0]):\n",
    "    tensor_data[i,0,:,:] = torch.from_numpy(data[i, 0])\n",
    "    tensor_ans[i] = data[i,1]\n",
    "del data\n",
    "\n",
    "trainset = torch.utils.data.TensorDataset(tensor_data, tensor_ans)\n",
    "del tensor_ans\n",
    "del tensor_data\n",
    "trainloader = torch.utils.data.DataLoader(trainset, batch_size=4,\n",
    "                                          shuffle=True, num_workers=2)\n",
    "del trainset"
   ]
  },
  {
   "cell_type": "code",
   "execution_count": 3,
   "metadata": {},
   "outputs": [],
   "source": [
    "def test(model):\n",
    "    correct = 0\n",
    "    total = 0\n",
    "    for i, data in enumerate(testloader, 0):\n",
    "        inputs, labels = data\n",
    "        outputs = model(inputs)\n",
    "        _, predicted = torch.max(outputs, 1)\n",
    "        for j in range(len(data)):\n",
    "            if (predicted[j] == labels[j]):\n",
    "                correct+=1\n",
    "            total += 1\n",
    "#         if (i % 100 == 99):\n",
    "#             print(correct/total * 100)\n",
    "\n",
    "    print(correct/total * 100)"
   ]
  },
  {
   "cell_type": "code",
   "execution_count": 4,
   "metadata": {},
   "outputs": [
    {
     "data": {
      "text/plain": [
       "0"
      ]
     },
     "execution_count": 4,
     "metadata": {},
     "output_type": "execute_result"
    }
   ],
   "source": [
    "import gc\n",
    "gc.collect()"
   ]
  },
  {
   "cell_type": "code",
   "execution_count": 26,
   "metadata": {},
   "outputs": [],
   "source": [
    "class Net(nn.Module):\n",
    "    def __init__(self):\n",
    "        super(Net, self).__init__()\n",
    "        self.conv1 = nn.Conv2d(1,6,5)\n",
    "        self.pool = nn.MaxPool2d(2,2)\n",
    "        self.conv2 = nn.Conv2d(6,16,5)\n",
    "        self.fc3 = nn.Linear(16 * 11 * 11, 120)\n",
    "        self.fc1 = nn.Linear(120, 600)\n",
    "        self.fc2 = nn.Linear(600, 1000)\n",
    "        \n",
    "    def forward(self, x):\n",
    "        x = x.view(-1, 1, 56, 56)\n",
    "        x = self.pool(F.relu(self.conv1(x)))\n",
    "        x = self.pool(F.relu(self.conv2(x)))\n",
    "        x = x.view(-1, 16 * 11 * 11)\n",
    "        x = self.fc1(x)\n",
    "        x = F.relu(x)\n",
    "        x = self.fc2(x)\n",
    "        x = F.relu(x)\n",
    "        x = self.fc3(x)\n",
    "#         x = F.softmax(x, dim=1)\n",
    "        return x"
   ]
  },
  {
   "cell_type": "code",
   "execution_count": null,
   "metadata": {},
   "outputs": [],
   "source": [
    "net = torch.load(\"/home/zedroman/Documents/Sonia/Ierogliph/models3/3\")\n",
    "net.eval"
   ]
  },
  {
   "cell_type": "code",
   "execution_count": 14,
   "metadata": {},
   "outputs": [],
   "source": [
    "net = Net()"
   ]
  },
  {
   "cell_type": "code",
   "execution_count": 16,
   "metadata": {},
   "outputs": [],
   "source": [
    "import torch.optim as optim\n",
    "\n",
    "criterion = nn.CrossEntropyLoss()\n",
    "optimizer = optim.SGD(net.parameters(), lr=0.1, momentum=0.9)"
   ]
  },
  {
   "cell_type": "code",
   "execution_count": 17,
   "metadata": {},
   "outputs": [
    {
     "name": "stderr",
     "output_type": "stream",
     "text": [
      "/home/zedroman/anaconda3/lib/python3.6/site-packages/torch/nn/functional.py:1332: UserWarning: nn.functional.sigmoid is deprecated. Use torch.sigmoid instead.\n",
      "  warnings.warn(\"nn.functional.sigmoid is deprecated. Use torch.sigmoid instead.\")\n"
     ]
    },
    {
     "name": "stdout",
     "output_type": "stream",
     "text": [
      "[1,  2000] loss: 6.95376837\n",
      "[1,  4000] loss: 6.97333100\n",
      "[1,  6000] loss: 6.96688774\n",
      "0.13813813813813813\n",
      "[1,  8000] loss: 6.96929850\n",
      "[1, 10000] loss: 6.96502597\n",
      "[1, 12000] loss: 6.97305284\n",
      "0.11411411411411411\n",
      "[1, 14000] loss: 6.96922897\n",
      "[1, 16000] loss: 6.96648537\n",
      "[1, 18000] loss: 6.96940830\n",
      "0.09009009009009009\n",
      "[1, 20000] loss: 6.96602000\n",
      "[1, 22000] loss: 6.97191114\n",
      "[1, 24000] loss: 6.96872619\n",
      "0.09009009009009009\n",
      "[1, 26000] loss: 6.97058195\n",
      "[1, 28000] loss: 6.97002181\n"
     ]
    },
    {
     "ename": "KeyboardInterrupt",
     "evalue": "",
     "output_type": "error",
     "traceback": [
      "\u001b[0;31m---------------------------------------------------------------------------\u001b[0m",
      "\u001b[0;31mKeyboardInterrupt\u001b[0m                         Traceback (most recent call last)",
      "\u001b[0;32m<ipython-input-17-a8e5cae1f031>\u001b[0m in \u001b[0;36m<module>\u001b[0;34m()\u001b[0m\n\u001b[1;32m     12\u001b[0m         \u001b[0mloss\u001b[0m \u001b[0;34m=\u001b[0m \u001b[0mcriterion\u001b[0m\u001b[0;34m(\u001b[0m\u001b[0moutputs\u001b[0m\u001b[0;34m,\u001b[0m \u001b[0mlabels\u001b[0m\u001b[0;34m)\u001b[0m\u001b[0;34m\u001b[0m\u001b[0m\n\u001b[1;32m     13\u001b[0m         \u001b[0mloss\u001b[0m\u001b[0;34m.\u001b[0m\u001b[0mbackward\u001b[0m\u001b[0;34m(\u001b[0m\u001b[0;34m)\u001b[0m\u001b[0;34m\u001b[0m\u001b[0m\n\u001b[0;32m---> 14\u001b[0;31m         \u001b[0moptimizer\u001b[0m\u001b[0;34m.\u001b[0m\u001b[0mstep\u001b[0m\u001b[0;34m(\u001b[0m\u001b[0;34m)\u001b[0m\u001b[0;34m\u001b[0m\u001b[0m\n\u001b[0m\u001b[1;32m     15\u001b[0m \u001b[0;34m\u001b[0m\u001b[0m\n\u001b[1;32m     16\u001b[0m         \u001b[0;31m# print statistics\u001b[0m\u001b[0;34m\u001b[0m\u001b[0;34m\u001b[0m\u001b[0m\n",
      "\u001b[0;32m~/anaconda3/lib/python3.6/site-packages/torch/optim/sgd.py\u001b[0m in \u001b[0;36mstep\u001b[0;34m(self, closure)\u001b[0m\n\u001b[1;32m     99\u001b[0m                     \u001b[0;32melse\u001b[0m\u001b[0;34m:\u001b[0m\u001b[0;34m\u001b[0m\u001b[0m\n\u001b[1;32m    100\u001b[0m                         \u001b[0mbuf\u001b[0m \u001b[0;34m=\u001b[0m \u001b[0mparam_state\u001b[0m\u001b[0;34m[\u001b[0m\u001b[0;34m'momentum_buffer'\u001b[0m\u001b[0;34m]\u001b[0m\u001b[0;34m\u001b[0m\u001b[0m\n\u001b[0;32m--> 101\u001b[0;31m                         \u001b[0mbuf\u001b[0m\u001b[0;34m.\u001b[0m\u001b[0mmul_\u001b[0m\u001b[0;34m(\u001b[0m\u001b[0mmomentum\u001b[0m\u001b[0;34m)\u001b[0m\u001b[0;34m.\u001b[0m\u001b[0madd_\u001b[0m\u001b[0;34m(\u001b[0m\u001b[0;36m1\u001b[0m \u001b[0;34m-\u001b[0m \u001b[0mdampening\u001b[0m\u001b[0;34m,\u001b[0m \u001b[0md_p\u001b[0m\u001b[0;34m)\u001b[0m\u001b[0;34m\u001b[0m\u001b[0m\n\u001b[0m\u001b[1;32m    102\u001b[0m                     \u001b[0;32mif\u001b[0m \u001b[0mnesterov\u001b[0m\u001b[0;34m:\u001b[0m\u001b[0;34m\u001b[0m\u001b[0m\n\u001b[1;32m    103\u001b[0m                         \u001b[0md_p\u001b[0m \u001b[0;34m=\u001b[0m \u001b[0md_p\u001b[0m\u001b[0;34m.\u001b[0m\u001b[0madd\u001b[0m\u001b[0;34m(\u001b[0m\u001b[0mmomentum\u001b[0m\u001b[0;34m,\u001b[0m \u001b[0mbuf\u001b[0m\u001b[0;34m)\u001b[0m\u001b[0;34m\u001b[0m\u001b[0m\n",
      "\u001b[0;31mKeyboardInterrupt\u001b[0m: "
     ]
    }
   ],
   "source": [
    "for epoch in range(10):  # loop over the dataset multiple times\n",
    "\n",
    "    running_loss = 0.0\n",
    "    for i, data in enumerate(trainloader, 0):\n",
    "        # get the inputs\n",
    "        inputs, labels = data\n",
    "        # zero the parameter gradients\n",
    "        optimizer.zero_grad()\n",
    "\n",
    "        # forward + backward + optimize\n",
    "        outputs = net(inputs)\n",
    "        loss = criterion(outputs, labels)\n",
    "        loss.backward()\n",
    "        optimizer.step()\n",
    "\n",
    "        # print statistics\n",
    "        running_loss += loss.item()\n",
    "        if i % 2000 == 1999:    # print every 2000 mini-batches\n",
    "            print('[%d, %5d] loss: %.8f' %\n",
    "                  (epoch + 1, i + 1, running_loss / 2000))\n",
    "            running_loss = 0.0\n",
    "        if i % 6000 == 5999:    # print every 2000 mini-batches\n",
    "            test(net)\n",
    "    torch.save(net, \"/home/zedroman/Documents/Sonia/Ierogliph/models3/2\")\n",
    "    test(net)\n",
    "print('Finished Training')\n"
   ]
  },
  {
   "cell_type": "code",
   "execution_count": null,
   "metadata": {},
   "outputs": [],
   "source": [
    "# torch.save(net, \"/home/zedroman/Documents/Sonia/Ierogliph/models2/3\")"
   ]
  },
  {
   "cell_type": "code",
   "execution_count": null,
   "metadata": {},
   "outputs": [],
   "source": []
  },
  {
   "cell_type": "code",
   "execution_count": 9,
   "metadata": {},
   "outputs": [],
   "source": [
    "data = (np.load(\"/home/zedroman/Documents/Sonia/Ierogliph/testing.npy\"))\n",
    "\n",
    "tensor_data = torch.empty((data.shape[0],1,data[0, 0].shape[0], data[0, 0].shape[1]))\n",
    "tensor_ans = torch.empty((data.shape[0])).long()\n",
    "\n",
    "for i in range(data.shape[0]):\n",
    "    tensor_data[i,0,:,:] = torch.from_numpy(data[i, 0])\n",
    "    tensor_ans[i] = data[i,1]\n",
    "del data\n",
    "\n",
    "testset = torch.utils.data.TensorDataset(tensor_data, tensor_ans)\n",
    "del tensor_ans\n",
    "del tensor_data\n",
    "testloader = torch.utils.data.DataLoader(testset, batch_size=4,\n",
    "                                         shuffle=False, num_workers=2)\n",
    "\n",
    "del testset"
   ]
  },
  {
   "cell_type": "code",
   "execution_count": 28,
   "metadata": {},
   "outputs": [
    {
     "data": {
      "text/plain": [
       "Net(\n",
       "  (conv1): Conv2d(1, 6, kernel_size=(5, 5), stride=(1, 1))\n",
       "  (pool): MaxPool2d(kernel_size=2, stride=2, padding=0, dilation=1, ceil_mode=False)\n",
       "  (conv2): Conv2d(6, 16, kernel_size=(5, 5), stride=(1, 1))\n",
       "  (fc1): Linear(in_features=1936, out_features=120, bias=True)\n",
       "  (fc2): Linear(in_features=120, out_features=600, bias=True)\n",
       "  (fc3): Linear(in_features=600, out_features=1000, bias=True)\n",
       ")"
      ]
     },
     "execution_count": 28,
     "metadata": {},
     "output_type": "execute_result"
    }
   ],
   "source": [
    "model = torch.load(\"/home/zedroman/Documents/Sonia/Ierogliph/models2/4\")\n",
    "model.eval()\n"
   ]
  },
  {
   "cell_type": "code",
   "execution_count": 29,
   "metadata": {},
   "outputs": [
    {
     "name": "stdout",
     "output_type": "stream",
     "text": [
      "89.51351351351352\n"
     ]
    }
   ],
   "source": [
    "test(model)"
   ]
  },
  {
   "cell_type": "code",
   "execution_count": null,
   "metadata": {},
   "outputs": [],
   "source": []
  },
  {
   "cell_type": "code",
   "execution_count": null,
   "metadata": {},
   "outputs": [],
   "source": [
    "import scipy.misc\n",
    "\n",
    "data = \"/home/zedroman/Documents/Sonia/Ierogliph/test.npy/test.npy\"\n",
    "test_csv = np.load(data)\n",
    "test = np.empty((test_csv.shape[0], 1,  i_height, i_width))\n",
    "for i in range(test.shape[0]): \n",
    "    test[i,0, :, :] = scipy.misc.imresize(test_csv[i], (i_height, i_width))\n",
    "test_csv = None\n",
    "test = 255 - test\n",
    "test = torch.from_numpy(test)"
   ]
  },
  {
   "cell_type": "code",
   "execution_count": null,
   "metadata": {},
   "outputs": [],
   "source": [
    "i_height = 56\n",
    "i_width = 56\n",
    "import json\n",
    "with open('/home/zedroman/Documents/Sonia/Ierogliph/itoc.txt', 'r') as outfile:  \n",
    "    itoc = json.load(outfile)\n",
    "with open('/home/zedroman/Documents/Sonia/Ierogliph/ctoi.txt', 'r') as outfile:  \n",
    "    ctoi = json.load(outfile)\n",
    "    \n",
    "def itocf(x):\n",
    "    for i in range(len(x)):\n",
    "        x[i] = itoc[str(x[i])]\n",
    "        \n",
    "def ctoif(x):\n",
    "    for i in range(len(x)):\n",
    "        x[i] = ctoi[x[i]]"
   ]
  },
  {
   "cell_type": "code",
   "execution_count": null,
   "metadata": {},
   "outputs": [],
   "source": [
    "def get_ans(model, x_test):\n",
    "    test_ans = model(x_test)\n",
    "    pred = test_ans.data.max(1, keepdim=True)[1]\n",
    "    itocf(pred)\n",
    "    nums = torch.arange(x_test.shape[0]).reshape((x_test.shape[0], 1)) + 1\n",
    "    return(torch.cat((nums, pred), 1))\n",
    "\n",
    "print(test.shape)\n",
    "ans = get_ans(model, test)\n",
    "print(ans)\n",
    "import pandas as pd\n",
    "# df = pd.DataFrame(ans.numpy)\n",
    "# df.to_csv(\"/home/zedroman/Documents/Sonia/mnist/test.csv\")\n",
    "ans = ans.numpy()\n",
    "np.savetxt(\"/home/zedroman/Documents/Sonia/Ierogliph/ans.csv\", ans, fmt=\"%d\", delimiter=\",\")\n",
    "print('ok')"
   ]
  },
  {
   "cell_type": "code",
   "execution_count": null,
   "metadata": {},
   "outputs": [],
   "source": []
  }
 ],
 "metadata": {
  "kernelspec": {
   "display_name": "Python 3",
   "language": "python",
   "name": "python3"
  },
  "language_info": {
   "codemirror_mode": {
    "name": "ipython",
    "version": 3
   },
   "file_extension": ".py",
   "mimetype": "text/x-python",
   "name": "python",
   "nbconvert_exporter": "python",
   "pygments_lexer": "ipython3",
   "version": "3.6.6"
  }
 },
 "nbformat": 4,
 "nbformat_minor": 2
}
