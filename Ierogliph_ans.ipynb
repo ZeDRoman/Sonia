{
 "cells": [
  {
   "cell_type": "code",
   "execution_count": 1,
   "metadata": {},
   "outputs": [],
   "source": [
    "import pandas\n",
    "import os\n",
    "import numpy as np\n",
    "import matplotlib.pyplot as plt\n",
    "import torch\n",
    "import torch\n",
    "import torch.nn as nn\n",
    "import torch.nn.functional as F\n",
    "import torch.optim as optim\n",
    "from torch.autograd import Variable\n",
    "import progressbar\n",
    "import torch\n",
    "import torchvision\n",
    "import torchvision.transforms as transforms"
   ]
  },
  {
   "cell_type": "code",
   "execution_count": null,
   "metadata": {},
   "outputs": [],
   "source": []
  },
  {
   "cell_type": "code",
   "execution_count": 2,
   "metadata": {},
   "outputs": [
    {
     "data": {
      "text/plain": [
       "Net(\n",
       "  (conv1): Conv2d(1, 6, kernel_size=(5, 5), stride=(1, 1))\n",
       "  (pool): MaxPool2d(kernel_size=2, stride=2, padding=0, dilation=1, ceil_mode=False)\n",
       "  (conv2): Conv2d(6, 16, kernel_size=(5, 5), stride=(1, 1))\n",
       "  (fc1): Linear(in_features=1936, out_features=120, bias=True)\n",
       "  (fc2): Linear(in_features=120, out_features=600, bias=True)\n",
       "  (fc3): Linear(in_features=600, out_features=1000, bias=True)\n",
       ")"
      ]
     },
     "execution_count": 2,
     "metadata": {},
     "output_type": "execute_result"
    }
   ],
   "source": [
    "class Net(nn.Module):\n",
    "    def __init__(self):\n",
    "        super(Net, self).__init__()\n",
    "        self.conv1 = nn.Conv2d(1,6,5)\n",
    "        self.pool = nn.MaxPool2d(2,2)\n",
    "        self.conv2 = nn.Conv2d(6,16,5)\n",
    "        self.fc3 = nn.Linear(16 * 11 * 11, 120)\n",
    "        self.fc1 = nn.Linear(120, 600)\n",
    "        self.fc2 = nn.Linear(600, 1000)\n",
    "        \n",
    "    def forward(self, x):\n",
    "        x = x.view(-1, 1, 56, 56)\n",
    "        x = self.pool(F.relu(self.conv1(x)))\n",
    "        x = self.pool(F.relu(self.conv2(x)))\n",
    "        x = x.view(-1, 16 * 11 * 11)\n",
    "        x = self.fc1(x)\n",
    "        x = F.relu(x)\n",
    "        x = self.fc2(x)\n",
    "        x = F.relu(x)\n",
    "        x = self.fc3(x)\n",
    "#         x = F.softmax(x, dim=1)\n",
    "        return x\n",
    "\n",
    "model = torch.load(\"/home/zedroman/Documents/Sonia/Ierogliph/models2/4\")\n",
    "model.eval()\n"
   ]
  },
  {
   "cell_type": "code",
   "execution_count": 3,
   "metadata": {},
   "outputs": [],
   "source": [
    "i_height = 56\n",
    "i_width = 56\n",
    "import json\n",
    "with open('/home/zedroman/Documents/Sonia/Ierogliph/itoc.txt', 'r') as outfile:  \n",
    "    itoc = json.load(outfile)\n",
    "with open('/home/zedroman/Documents/Sonia/Ierogliph/ctoi.txt', 'r') as outfile:  \n",
    "    ctoi = json.load(outfile)\n",
    "    \n",
    "def itocf(x):\n",
    "    for i in range(len(x)):\n",
    "        x[i] = itoc[str(x[i].item())]\n",
    "        \n",
    "def ctoif(x):\n",
    "    for i in range(len(x)):\n",
    "        x[i] = ctoi[str(x[i].item())]\n",
    "        "
   ]
  },
  {
   "cell_type": "code",
   "execution_count": 4,
   "metadata": {},
   "outputs": [],
   "source": [
    "import scipy.misc\n",
    "\n",
    "def get_data(i):\n",
    "    data = \"/home/zedroman/Documents/Sonia/Ierogliph/test.npy/test{}.npy\".format(i)\n",
    "    test = torch.from_numpy(np.load(data)).float()\n",
    "    return test"
   ]
  },
  {
   "cell_type": "code",
   "execution_count": 5,
   "metadata": {},
   "outputs": [
    {
     "name": "stdout",
     "output_type": "stream",
     "text": [
      "torch.Size([8325, 1, 56, 56])\n",
      "tensor([[    1, 63955],\n",
      "        [    2, 65207],\n",
      "        [    3, 64709]])\n",
      "ok\n",
      "torch.Size([8325, 1, 56, 56])\n",
      "tensor([[ 8326, 61654],\n",
      "        [ 8327, 60856],\n",
      "        [ 8328, 63152]])\n",
      "ok\n",
      "torch.Size([8325, 1, 56, 56])\n",
      "tensor([[16651, 60369],\n",
      "        [16652, 65208],\n",
      "        [16653, 61899]])\n",
      "ok\n",
      "torch.Size([8325, 1, 56, 56])\n",
      "tensor([[24976, 59606],\n",
      "        [24977, 59845],\n",
      "        [24978, 65238]])\n",
      "ok\n",
      "torch.Size([8325, 1, 56, 56])\n",
      "tensor([[33301, 61654],\n",
      "        [33302, 64466],\n",
      "        [33303, 62647]])\n",
      "ok\n",
      "torch.Size([8325, 1, 56, 56])\n",
      "tensor([[41626, 62914],\n",
      "        [41627, 60101],\n",
      "        [41628, 61394]])\n",
      "ok\n",
      "torch.Size([8325, 1, 56, 56])\n",
      "tensor([[49951, 62670],\n",
      "        [49952, 63445],\n",
      "        [49953, 60343]])\n",
      "ok\n",
      "torch.Size([8324, 1, 56, 56])\n",
      "tensor([[58276, 64697],\n",
      "        [58277, 62421],\n",
      "        [58278, 59334]])\n",
      "ok\n",
      "torch.Size([8324, 1, 56, 56])\n",
      "tensor([[66600, 62130],\n",
      "        [66601, 59318],\n",
      "        [66602, 59571]])\n",
      "ok\n",
      "torch.Size([8324, 1, 56, 56])\n",
      "tensor([[74924, 61886],\n",
      "        [74925, 62151],\n",
      "        [74926, 60855]])\n",
      "ok\n"
     ]
    }
   ],
   "source": [
    "def get_ans(model, test_ans, fr):\n",
    "    test_ans = model(test_ans)\n",
    "    test_ans = test_ans.data.max(1, keepdim=True)[1]\n",
    "    ctoif(test_ans)\n",
    "    nums = torch.arange(fr, fr + test_ans.shape[0]).reshape((test_ans.shape[0], 1)) + 1\n",
    "    return(torch.cat((nums, test_ans), 1))\n",
    "\n",
    "fr = 0\n",
    "for i in range( 10):\n",
    "    test = get_data(i)\n",
    "    print(test.shape)\n",
    "    test = get_ans(model, test, fr)\n",
    "    fr += test.shape[0]\n",
    "    print(test[0:3])\n",
    "    import pandas as pd\n",
    "    test = test.numpy()\n",
    "    np.savetxt(\"/home/zedroman/Documents/Sonia/Ierogliph/ans{}.csv\".format(i), test, fmt=\"%d\", delimiter=\",\")\n",
    "    print('ok')"
   ]
  },
  {
   "cell_type": "code",
   "execution_count": null,
   "metadata": {},
   "outputs": [],
   "source": []
  },
  {
   "cell_type": "code",
   "execution_count": null,
   "metadata": {},
   "outputs": [],
   "source": []
  }
 ],
 "metadata": {
  "kernelspec": {
   "display_name": "Python 3",
   "language": "python",
   "name": "python3"
  },
  "language_info": {
   "codemirror_mode": {
    "name": "ipython",
    "version": 3
   },
   "file_extension": ".py",
   "mimetype": "text/x-python",
   "name": "python",
   "nbconvert_exporter": "python",
   "pygments_lexer": "ipython3",
   "version": "3.6.6"
  }
 },
 "nbformat": 4,
 "nbformat_minor": 2
}
